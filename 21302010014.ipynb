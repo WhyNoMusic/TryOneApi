{
 "cells": [
  {
   "cell_type": "code",
   "execution_count": 1,
   "id": "e2f92505-d6d9-49fd-95e5-11349bfb9f34",
   "metadata": {},
   "outputs": [
    {
     "name": "stderr",
     "output_type": "stream",
     "text": [
      "Intel(R) Extension for Scikit-learn* enabled (https://github.com/intel/scikit-learn-intelex)\n"
     ]
    }
   ],
   "source": [
    "#导入所需库\n",
    "import numpy as np\n",
    "import pandas as pd\n",
    "import time\n",
    "import warnings\n",
    "warnings.filterwarnings(\"ignore\")\n",
    "\n",
    "from sklearn.metrics import recall_score, precision_recall_curve, auc, f1_score\n",
    "from sklearn.model_selection import train_test_split, GridSearchCV\n",
    "\n",
    "import modin.pandas as mpd  \n",
    "\n",
    "from lightgbm import LGBMClassifier\n",
    "\n",
    "from sklearnex import patch_sklearn\n",
    "patch_sklearn()\n",
    "\n",
    "import daal4py as d4p"
   ]
  },
  {
   "cell_type": "code",
   "execution_count": 2,
   "id": "091a1f1a-69d5-4763-a222-88d2e7f67a7e",
   "metadata": {},
   "outputs": [],
   "source": [
    "#读取数据\n",
    "df = pd.read_csv('creditcard.csv')\n",
    "df = mpd.DataFrame(df) "
   ]
  },
  {
   "cell_type": "code",
   "execution_count": 3,
   "id": "3568ca80-800c-468f-9b3d-c2af863dfc22",
   "metadata": {},
   "outputs": [],
   "source": [
    "#分割特征和标签\n",
    "X = df.drop('Class', axis=1)\n",
    "y = df['Class']\n",
    "\n",
    "#划分数据集\n",
    "X_train, X_test, y_train, y_test = train_test_split(X, y, test_size=0.3, random_state=42)"
   ]
  },
  {
   "cell_type": "code",
   "execution_count": 4,
   "id": "2aae82c4-87a7-434b-a7f6-c9126de4fde9",
   "metadata": {},
   "outputs": [],
   "source": [
    "#过采样正样本\n",
    "from imblearn.over_sampling import RandomOverSampler\n",
    "ros = RandomOverSampler(random_state=42)\n",
    "X_train, y_train = ros.fit_resample(X_train, y_train)"
   ]
  },
  {
   "cell_type": "markdown",
   "id": "b13a40aa-0dfe-4895-b264-e73a4482824a",
   "metadata": {},
   "source": [
    "# LightGBM模型训练"
   ]
  },
  {
   "cell_type": "code",
   "execution_count": 5,
   "id": "50fa3080-69cf-4f41-9879-e0f8b10bfd45",
   "metadata": {},
   "outputs": [
    {
     "name": "stdout",
     "output_type": "stream",
     "text": [
      "[LightGBM] [Info] Number of positive: 199008, number of negative: 199008\n",
      "[LightGBM] [Info] Auto-choosing col-wise multi-threading, the overhead of testing was 0.017625 seconds.\n",
      "You can set `force_col_wise=true` to remove the overhead.\n",
      "[LightGBM] [Info] Total Bins 7646\n",
      "[LightGBM] [Info] Number of data points in the train set: 398016, number of used features: 30\n",
      "[LightGBM] [Info] [binary:BoostFromScore]: pavg=0.500000 -> initscore=0.000000\n",
      "LightGBM model training time: 1.4185025691986084 sec\n"
     ]
    }
   ],
   "source": [
    "\n",
    "lgb = LGBMClassifier(random_state=42)\n",
    "\n",
    "start = time.time()\n",
    "lgb.fit(X_train, y_train)  \n",
    "end = time.time()\n",
    "\n",
    "print('LightGBM model training time:', end - start, 'sec')"
   ]
  },
  {
   "cell_type": "code",
   "execution_count": 6,
   "id": "259cb1c0-3c81-4113-beb7-fa82ade616a8",
   "metadata": {},
   "outputs": [
    {
     "name": "stdout",
     "output_type": "stream",
     "text": [
      "Recall score: 0.846\n",
      "F1 score: 0.855\n",
      "AUPRC: 0.855\n"
     ]
    }
   ],
   "source": [
    "# 模型评估\n",
    "y_pred = lgb.predict(X_test)\n",
    "\n",
    "# 计算召回率\n",
    "recall = recall_score(y_test, y_pred) \n",
    "\n",
    "# 计算F1\n",
    "f1 = f1_score(y_test, y_pred)\n",
    "\n",
    "# 计算AUPRC\n",
    "precision, recall_for_auprc, thresholds = precision_recall_curve(y_test, y_pred)\n",
    "auprc = auc(recall_for_auprc, precision)\n",
    "\n",
    "print('Recall score:', round(recall, 3))\n",
    "print('F1 score:', round(f1, 3))\n",
    "print('AUPRC:', round(auprc, 3))"
   ]
  },
  {
   "cell_type": "markdown",
   "id": "8c13c5f8-4513-4c32-92a4-d75b68baf10f",
   "metadata": {},
   "source": [
    "# 使用DAAL加速预测"
   ]
  },
  {
   "cell_type": "code",
   "execution_count": 7,
   "id": "a99aeb77-6c8e-43bd-a0e7-d769d26a7bc4",
   "metadata": {},
   "outputs": [
    {
     "name": "stdout",
     "output_type": "stream",
     "text": [
      "Prediction time with DAAL: 0.11145949363708496 sec\n",
      "Prediction time without DAAL: 0.07911443710327148 sec\n",
      "DAAL obtained 0.7x speedup\n"
     ]
    }
   ],
   "source": [
    "\n",
    "daal_model = d4p.get_gbt_model_from_lightgbm(lgb.booster_)\n",
    "start = time.time()\n",
    "y_pred_daal = d4p.gbt_classification_prediction(nClasses=2).compute(X_test, daal_model).prediction\n",
    "end = time.time()\n",
    "daal_time = end - start\n",
    "\n",
    "#不使用DAAL\n",
    "start = time.time()  \n",
    "y_pred_original = lgb.predict(X_test)\n",
    "end = time.time()\n",
    "original_time = end - start\n",
    "\n",
    "print('Prediction time with DAAL:', daal_time, 'sec')\n",
    "print('Prediction time without DAAL:', original_time, 'sec')\n",
    "print('DAAL obtained {:.1f}x speedup'.format(original_time / daal_time))"
   ]
  },
  {
   "cell_type": "markdown",
   "id": "b97c79f4-e1ec-443f-9703-79b1cafa3afa",
   "metadata": {},
   "source": [
    "# 利用patch_sklearn加速随机森林训练"
   ]
  },
  {
   "cell_type": "code",
   "execution_count": 9,
   "id": "fa5a11f3-a3c2-4cbc-98e0-0c861c19ab29",
   "metadata": {},
   "outputs": [
    {
     "name": "stderr",
     "output_type": "stream",
     "text": [
      "Intel(R) Extension for Scikit-learn* enabled (https://github.com/intel/scikit-learn-intelex)\n"
     ]
    },
    {
     "name": "stdout",
     "output_type": "stream",
     "text": [
      "RandomForest training time with acceleration: 3.24 sec\n",
      "F1 score: 0.890\n"
     ]
    }
   ],
   "source": [
    "from sklearnex import patch_sklearn\n",
    "patch_sklearn()\n",
    "\n",
    "from sklearn.ensemble import RandomForestClassifier\n",
    "from sklearn.metrics import f1_score\n",
    "import time\n",
    "\n",
    "\n",
    "rf = RandomForestClassifier(random_state=42)\n",
    "\n",
    "start = time.time()\n",
    "rf.fit(X_train, y_train)\n",
    "end = time.time()\n",
    "\n",
    "print(f\"RandomForest training time with acceleration: {end - start:.2f} sec\")\n",
    "\n",
    "y_pred = rf.predict(X_test)\n",
    "f1 = f1_score(y_test, y_pred)\n",
    "print(f\"F1 score: {f1:.3f}\")\n"
   ]
  },
  {
   "cell_type": "code",
   "execution_count": 11,
   "id": "0530501f-0201-4207-a658-58d4d98a3e58",
   "metadata": {},
   "outputs": [
    {
     "name": "stdout",
     "output_type": "stream",
     "text": [
      "RandomForest training time with oneDAL: 30.83 sec\n",
      "F1 score with oneDAL: 0.267\n"
     ]
    }
   ],
   "source": [
    "import daal4py as d4p\n",
    "import time\n",
    "\n",
    "# 配置随机森林训练参数\n",
    "rf_params = {\n",
    "    'nClasses': 2,\n",
    "    'nTrees': 100,\n",
    "    'featuresPerNode': X_train.shape[1],\n",
    "    'maxTreeDepth': 10,\n",
    "    'minObservationsInLeafNode': 5,\n",
    "    # 其他参数...\n",
    "}\n",
    "\n",
    "# 使用oneDAL的随机森林训练模型\n",
    "daal_rf = d4p.decision_forest_classification_training(**rf_params)\n",
    "\n",
    "start = time.time()\n",
    "rf_model = daal_rf.compute(X_train, y_train)\n",
    "end = time.time()\n",
    "\n",
    "print(f\"RandomForest training time with oneDAL: {end - start:.2f} sec\")\n",
    "\n",
    "# 使用训练好的模型进行预测\n",
    "n_classes = 2\n",
    "\n",
    "# 使用训练好的模型进行预测\n",
    "predict_algorithm = d4p.decision_forest_classification_prediction(nClasses=n_classes)\n",
    "\n",
    "# 使用测试数据进行预测\n",
    "y_pred_daal = predict_algorithm.compute(X_test, rf_model.model).prediction.ravel()\n",
    "\n",
    "# 计算 F1 分数\n",
    "f1 = f1_score(y_test, y_pred_daal)\n",
    "print(f\"F1 score with oneDAL: {f1:.3f}\")\n"
   ]
  },
  {
   "cell_type": "markdown",
   "id": "0fe81b6f-6d75-4471-8523-a42fbb6eaa23",
   "metadata": {
    "tags": []
   },
   "source": [
    "# XGBoost"
   ]
  },
  {
   "cell_type": "code",
   "execution_count": 12,
   "id": "85ac10e8-0780-4899-90b2-14bff4c6fb3b",
   "metadata": {},
   "outputs": [
    {
     "name": "stdout",
     "output_type": "stream",
     "text": [
      "XGBoost training time with histogram optimization: 1.60 sec\n",
      "F1 score with XGBoost: 0.885\n"
     ]
    }
   ],
   "source": [
    "import xgboost as xgb\n",
    "from sklearn.metrics import f1_score\n",
    "import time\n",
    "\n",
    "# 模型参数\n",
    "xgb_params = {\n",
    "    'objective': 'binary:logistic',\n",
    "    'eval_metric': 'logloss',\n",
    "    'tree_method': 'hist',  # 使用直方图优化的版本\n",
    "}\n",
    "\n",
    "dtrain = xgb.DMatrix(X_train, label=y_train)\n",
    "dtest = xgb.DMatrix(X_test, label=y_test)\n",
    "\n",
    "start = time.time()\n",
    "bst = xgb.train(xgb_params, dtrain, num_boost_round=100)\n",
    "end = time.time()\n",
    "\n",
    "print(f\"XGBoost training time with histogram optimization: {end - start:.2f} sec\")\n",
    "\n",
    "y_pred_xgb = bst.predict(dtest)\n",
    "y_pred_xgb = (y_pred_xgb > 0.5).astype(int)  # 转换为类别\n",
    "\n",
    "f1 = f1_score(y_test, y_pred_xgb)\n",
    "print(f\"F1 score with XGBoost: {f1:.3f}\")\n"
   ]
  },
  {
   "cell_type": "markdown",
   "id": "88e58358-5657-4e16-96d4-16015a369184",
   "metadata": {},
   "source": [
    "总结：\n",
    "LightGBM\n",
    "训练较快，召回率0.846，较高，意味着模型能够识别出大部分的正类样本（欺诈交易）。F1分数：0.855较高，平衡了精确度和召回率。AUPRC 0.855，表明模型在处理不平衡数据集时表现良好。\n",
    "\n",
    "DAAL (oneDAL) 加速预测\n",
    "预测时间：0.111秒；原始预测时间：0.079秒，加速比0.7倍。\n",
    "在这个特定场景下，DAAL未能提供预测加速，反而比原生LightGBM慢了一些。\n",
    "Scikit-learn-intelex 加速训练\n",
    "随机森林训练时间（加速后）：3.24秒。\n",
    "F1分数0.890，较高，表明模型在预测欺诈交易时效果很好。\n",
    "oneDAL 加速训练\n",
    "随机森林训练时间（oneDAL）：30.83秒，比Scikit-learn-intelex慢很多，可能是由于数据传输或参数配置不当。\n",
    "F1分数（oneDAL）：0.267，这个分数明显低于预期，表明可能存在问题，需要进一步调查和优化。\n",
    "XGBoost\n",
    "训练时间：1.60秒，和LightGBM相当，证明XGBoost也是一个快速的训练算法。\n",
    "F1分数：0.885，这个分数与Scikit-learn-intelex加速后的随机森林相近，表明XGBoost在此问题上表现良好。"
   ]
  }
 ],
 "metadata": {
  "kernelspec": {
   "display_name": "modin-hdk",
   "language": "python",
   "name": "modin-hdk"
  },
  "language_info": {
   "codemirror_mode": {
    "name": "ipython",
    "version": 3
   },
   "file_extension": ".py",
   "mimetype": "text/x-python",
   "name": "python",
   "nbconvert_exporter": "python",
   "pygments_lexer": "ipython3",
   "version": "3.9.16"
  }
 },
 "nbformat": 4,
 "nbformat_minor": 5
}
